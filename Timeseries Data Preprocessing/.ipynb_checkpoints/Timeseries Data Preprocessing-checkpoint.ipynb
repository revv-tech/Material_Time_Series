{
 "cells": [
  {
   "cell_type": "markdown",
   "id": "061c7524",
   "metadata": {},
   "source": [
    "# timeseries_dataset_from_array function"
   ]
  },
  {
   "cell_type": "markdown",
   "id": "dcb65182",
   "metadata": {},
   "source": [
    "This function takes in a sequence of data-points gathered at equal intervals, along with time series parameters such as length of the sequences/windows, spacing between two sequence/windows, etc., to produce batches of timeseries inputs and targets."
   ]
  },
  {
   "cell_type": "code",
   "execution_count": null,
   "id": "2144299f",
   "metadata": {},
   "outputs": [],
   "source": [
    "tf.keras.preprocessing.timeseries_dataset_from_array(\n",
    "    data,\n",
    "    targets,\n",
    "    sequence_length,\n",
    "    sequence_stride=1,\n",
    "    sampling_rate=1,\n",
    "    batch_size=128,\n",
    "    shuffle=False,\n",
    "    seed=None,\n",
    "    start_index=None,\n",
    "    end_index=None,\n",
    ")"
   ]
  },
  {
   "cell_type": "markdown",
   "id": "d62b57ba",
   "metadata": {},
   "source": [
    "## Arguments"
   ]
  },
  {
   "cell_type": "markdown",
   "id": "af9ab256",
   "metadata": {},
   "source": [
    "\n",
    "\n",
    " - **data:** Numpy array or eager tensor containing consecutive data points (timesteps). Axis 0 is expected to be the time dimension.\n",
    " \n",
    "- **targets:** Targets corresponding to timesteps in data. targets[i] should be the target corresponding to the window that starts at index i (see example 2 below). Pass None if you don't have target data (in this case the dataset will only yield the input data).\n",
    "\n",
    "\n",
    "- **sequence_length:** Length of the output sequences (in number of timesteps).\n",
    "\n",
    "\n",
    "- **sequence_stride:** Period between successive output sequences. For stride s, output samples would start at index data[i], data[i + s], data[i + 2 * s], etc.\n",
    "\n",
    "\n",
    "- **sampling_rate:** Period between successive individual timesteps within sequences. For rate r, timesteps data[i], data[i + r], ... data[i + sequence_length] are used for create a sample sequence.\n",
    "\n",
    "\n",
    "- **batch_size:** Number of timeseries samples in each batch (except maybe the last one).\n",
    "\n",
    "\n",
    "- **shuffle:** Whether to shuffle output samples, or instead draw them in chronological order.\n",
    "\n",
    "- **seed:** Optional int; random seed for shuffling.\n",
    "\n",
    "\n",
    "- **start_index:** Optional int; data points earlier (exclusive) than start_index will not be used in the output sequences. This is useful to reserve part of the data for test or validation.\n",
    "\n",
    "\n",
    "\n",
    "- **end_index:** Optional int; data points later (exclusive) than end_index will not be used in the output sequences. This is useful to reserve part of the data for test or validation."
   ]
  },
  {
   "cell_type": "markdown",
   "id": "ffa5080c",
   "metadata": {},
   "source": [
    "## Returns"
   ]
  },
  {
   "cell_type": "markdown",
   "id": "89e02e6b",
   "metadata": {},
   "source": [
    "\n",
    "A tf.data.Dataset instance. If targets was passed, the dataset yields tuple (batch_of_sequences, batch_of_targets). If not, the dataset yields only batch_of_sequences."
   ]
  },
  {
   "cell_type": "markdown",
   "id": "b3ca887d",
   "metadata": {},
   "source": [
    "## Example 1:"
   ]
  },
  {
   "cell_type": "markdown",
   "id": "b9f7863b",
   "metadata": {},
   "source": [
    "Consider indices [0, 1, ... 99]. With sequence_length=10, sampling_rate=2, sequence_stride=3, shuffle=False, the dataset will yield batches of sequences composed of the following indices:"
   ]
  },
  {
   "cell_type": "code",
   "execution_count": null,
   "id": "84038ad0",
   "metadata": {},
   "outputs": [],
   "source": [
    "First sequence:  [0  2  4  6  8 10 12 14 16 18]\n",
    "Second sequence: [3  5  7  9 11 13 15 17 19 21]\n",
    "Third sequence:  [6  8 10 12 14 16 18 20 22 24]\n",
    "...\n",
    "Last sequence:   [78 80 82 84 86 88 90 92 94 96]"
   ]
  },
  {
   "cell_type": "markdown",
   "id": "cab8d9df",
   "metadata": {},
   "source": [
    "In this case the last 3 data points are discarded since no full sequence can be generated to include them (the next sequence would have started at index 81, and thus its last step would have gone over 99)."
   ]
  },
  {
   "cell_type": "markdown",
   "id": "6993f46b",
   "metadata": {},
   "source": [
    "## Example 2:"
   ]
  },
  {
   "cell_type": "markdown",
   "id": "2bc0d759",
   "metadata": {},
   "source": [
    "Consider an array data of scalar values, of shape (steps,). To generate a dataset that uses the past 10 timesteps to predict the next timestep, you would use:"
   ]
  },
  {
   "cell_type": "code",
   "execution_count": null,
   "id": "adb4aaa7",
   "metadata": {},
   "outputs": [],
   "source": [
    "input_data = data[:-10]\n",
    "targets = data[10:]\n",
    "dataset = tf.keras.preprocessing.timeseries_dataset_from_array(\n",
    "    input_data, targets, sequence_length=10)\n",
    "for batch in dataset:\n",
    "  inputs, targets = batch\n",
    "  assert np.array_equal(inputs[0], data[:10])  # First sequence: steps [0-9]\n",
    "  assert np.array_equal(targets[0], data[10])  # Corresponding target: step 10\n",
    "  break"
   ]
  },
  {
   "cell_type": "markdown",
   "id": "84e4d27c",
   "metadata": {},
   "source": [
    "## Example 3: "
   ]
  },
  {
   "cell_type": "markdown",
   "id": "47f98366",
   "metadata": {},
   "source": [
    "Temporal regression for many-to-many architectures."
   ]
  },
  {
   "cell_type": "markdown",
   "id": "81bf45f8",
   "metadata": {},
   "source": [
    "Consider two arrays of scalar values X and Y, both of shape (100,). The resulting dataset should consist samples with 20 timestamps each. The samples should not overlap. To generate a dataset that uses the current timestamp to predict the corresponding target timestep, you would use:"
   ]
  },
  {
   "cell_type": "code",
   "execution_count": null,
   "id": "e5c13a5c",
   "metadata": {},
   "outputs": [],
   "source": [
    "X = np.arange(100)\n",
    "Y = X*2\n",
    "\n",
    "sample_length = 20\n",
    "input_dataset = tf.keras.preprocessing.timeseries_dataset_from_array(\n",
    "  X, None, sequence_length=sample_length, sequence_stride=sample_length)\n",
    "target_dataset = tf.keras.preprocessing.timeseries_dataset_from_array(\n",
    "  Y, None, sequence_length=sample_length, sequence_stride=sample_length)\n",
    "\n",
    "for batch in zip(input_dataset, target_dataset):\n",
    "  inputs, targets = batch\n",
    "  assert np.array_equal(inputs[0], X[:sample_length])\n",
    "\n",
    "  # second sample equals output timestamps 20-40\n",
    "  assert np.array_equal(targets[1], Y[sample_length:2*sample_length])\n",
    "  break"
   ]
  },
  {
   "cell_type": "markdown",
   "id": "011f21ff",
   "metadata": {},
   "source": [
    "# pad_sequences function"
   ]
  },
  {
   "cell_type": "code",
   "execution_count": null,
   "id": "c8345dec",
   "metadata": {},
   "outputs": [],
   "source": [
    "tf.keras.preprocessing.sequence.pad_sequences(\n",
    "    sequences, maxlen=None, dtype=\"int32\", padding=\"pre\", truncating=\"pre\", value=0.0\n",
    ")"
   ]
  },
  {
   "cell_type": "markdown",
   "id": "e8b7665d",
   "metadata": {},
   "source": [
    "Pads sequences to the same length.\n",
    "\n",
    "This function transforms a list (of length num_samples) of sequences (lists of integers) into a 2D Numpy array of shape (num_samples, num_timesteps). num_timesteps is either the maxlen argument if provided, or the length of the longest sequence in the list.\n",
    "\n",
    "Sequences that are shorter than num_timesteps are padded with value until they are num_timesteps long.\n",
    "\n",
    "Sequences longer than num_timesteps are truncated so that they fit the desired length.\n",
    "\n",
    "The position where padding or truncation happens is determined by the arguments padding and truncating, respectively. Pre-padding or removing values from the beginning of the sequence is the default."
   ]
  },
  {
   "cell_type": "code",
   "execution_count": 4,
   "id": "f87a01af",
   "metadata": {},
   "outputs": [],
   "source": [
    "sequence = [[1], [2, 3], [4, 5, 6]]"
   ]
  },
  {
   "cell_type": "code",
   "execution_count": null,
   "id": "7b0884ec",
   "metadata": {},
   "outputs": [],
   "source": [
    "tf.keras.preprocessing.sequence.pad_sequences(sequence)"
   ]
  },
  {
   "cell_type": "raw",
   "id": "aab2ef6c",
   "metadata": {},
   "source": [
    "array([[0, 0, 1],\n",
    "       [0, 2, 3],\n",
    "       [4, 5, 6]], dtype=int32)      "
   ]
  },
  {
   "cell_type": "code",
   "execution_count": null,
   "id": "57e39a77",
   "metadata": {},
   "outputs": [],
   "source": [
    "tf.keras.preprocessing.sequence.pad_sequences(sequence, value=-1)"
   ]
  },
  {
   "cell_type": "raw",
   "id": "61f2843b",
   "metadata": {},
   "source": [
    "array([[-1, -1,  1],\n",
    "       [-1,  2,  3],\n",
    "       [ 4,  5,  6]], dtype=int32)"
   ]
  },
  {
   "cell_type": "code",
   "execution_count": null,
   "id": "b3a9b099",
   "metadata": {},
   "outputs": [],
   "source": [
    "tf.keras.preprocessing.sequence.pad_sequences(sequence, padding='post')"
   ]
  },
  {
   "cell_type": "raw",
   "id": "c19bad9e",
   "metadata": {},
   "source": [
    "array([[1, 0, 0],\n",
    "       [2, 3, 0],\n",
    "       [4, 5, 6]], dtype=int32)"
   ]
  },
  {
   "cell_type": "code",
   "execution_count": null,
   "id": "63f1c656",
   "metadata": {},
   "outputs": [],
   "source": [
    "tf.keras.preprocessing.sequence.pad_sequences(sequence, maxlen=2)"
   ]
  },
  {
   "cell_type": "raw",
   "id": "0019ea32",
   "metadata": {},
   "source": [
    "array([[0, 1],\n",
    "       [2, 3],\n",
    "       [5, 6]], dtype=int32)"
   ]
  },
  {
   "cell_type": "markdown",
   "id": "e99624b5",
   "metadata": {},
   "source": [
    "## Arguments"
   ]
  },
  {
   "cell_type": "markdown",
   "id": "94b6b0e0",
   "metadata": {},
   "source": [
    "\n",
    "- **sequences:** List of sequences (each sequence is a list of integers).\n",
    "- **maxlen:** Optional Int, maximum length of all sequences. If not provided, sequences will be padded to the length of the longest individual sequence.\n",
    "- **dtype:** (Optional, defaults to int32). Type of the output sequences. To pad sequences with variable length strings, you can use object.\n",
    "- **padding:** String, 'pre' or 'post' (optional, defaults to 'pre'): pad either before or after each sequence.\n",
    "- **truncating:** String, 'pre' or 'post' (optional, defaults to 'pre'): remove values from sequences larger than maxlen, either at the beginning or at the end of the sequences.\n",
    "- **value:** Float or String, padding value. (Optional, defaults to 0.)"
   ]
  },
  {
   "cell_type": "markdown",
   "id": "4e2a2b28",
   "metadata": {},
   "source": [
    "## Returns"
   ]
  },
  {
   "cell_type": "raw",
   "id": "296f5059",
   "metadata": {},
   "source": [
    "Numpy array with shape (len(sequences), maxlen)"
   ]
  },
  {
   "cell_type": "markdown",
   "id": "22284f1f",
   "metadata": {},
   "source": [
    "## Raises"
   ]
  },
  {
   "cell_type": "markdown",
   "id": "aee02dc7",
   "metadata": {},
   "source": [
    "- **ValueError:** In case of invalid values for truncating or padding, or in case of invalid shape for a sequences entry."
   ]
  },
  {
   "cell_type": "code",
   "execution_count": null,
   "id": "55ead6d5",
   "metadata": {},
   "outputs": [],
   "source": []
  }
 ],
 "metadata": {
  "kernelspec": {
   "display_name": "Python 3 (ipykernel)",
   "language": "python",
   "name": "python3"
  },
  "language_info": {
   "codemirror_mode": {
    "name": "ipython",
    "version": 3
   },
   "file_extension": ".py",
   "mimetype": "text/x-python",
   "name": "python",
   "nbconvert_exporter": "python",
   "pygments_lexer": "ipython3",
   "version": "3.10.11"
  }
 },
 "nbformat": 4,
 "nbformat_minor": 5
}
