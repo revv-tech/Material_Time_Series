{
 "cells": [
  {
   "cell_type": "markdown",
   "id": "042c744e",
   "metadata": {},
   "source": [
    "# Outlier Detection and Remover"
   ]
  },
  {
   "cell_type": "markdown",
   "id": "a814bd23",
   "metadata": {},
   "source": [
    "Removing outliers is important in a time series since outliers can cause problems in downstream processing. Luckily, Kats makes it easy to detect and remove outliers."
   ]
  },
  {
   "cell_type": "code",
   "execution_count": 33,
   "id": "52ad0827",
   "metadata": {},
   "outputs": [
    {
     "data": {
      "text/html": [
       "<div>\n",
       "<style scoped>\n",
       "    .dataframe tbody tr th:only-of-type {\n",
       "        vertical-align: middle;\n",
       "    }\n",
       "\n",
       "    .dataframe tbody tr th {\n",
       "        vertical-align: top;\n",
       "    }\n",
       "\n",
       "    .dataframe thead th {\n",
       "        text-align: right;\n",
       "    }\n",
       "</style>\n",
       "<table border=\"1\" class=\"dataframe\">\n",
       "  <thead>\n",
       "    <tr style=\"text-align: right;\">\n",
       "      <th></th>\n",
       "      <th>Users</th>\n",
       "    </tr>\n",
       "    <tr>\n",
       "      <th>Day Index</th>\n",
       "      <th></th>\n",
       "    </tr>\n",
       "  </thead>\n",
       "  <tbody>\n",
       "    <tr>\n",
       "      <th>2021-01-01</th>\n",
       "      <td>31</td>\n",
       "    </tr>\n",
       "    <tr>\n",
       "      <th>2021-01-02</th>\n",
       "      <td>41</td>\n",
       "    </tr>\n",
       "    <tr>\n",
       "      <th>2021-01-03</th>\n",
       "      <td>58</td>\n",
       "    </tr>\n",
       "    <tr>\n",
       "      <th>2021-01-04</th>\n",
       "      <td>56</td>\n",
       "    </tr>\n",
       "    <tr>\n",
       "      <th>2021-01-05</th>\n",
       "      <td>44</td>\n",
       "    </tr>\n",
       "    <tr>\n",
       "      <th>2021-01-06</th>\n",
       "      <td>46</td>\n",
       "    </tr>\n",
       "    <tr>\n",
       "      <th>2021-01-07</th>\n",
       "      <td>62</td>\n",
       "    </tr>\n",
       "    <tr>\n",
       "      <th>2021-01-08</th>\n",
       "      <td>39</td>\n",
       "    </tr>\n",
       "    <tr>\n",
       "      <th>2021-01-09</th>\n",
       "      <td>45</td>\n",
       "    </tr>\n",
       "    <tr>\n",
       "      <th>2021-01-10</th>\n",
       "      <td>43</td>\n",
       "    </tr>\n",
       "  </tbody>\n",
       "</table>\n",
       "</div>"
      ],
      "text/plain": [
       "            Users\n",
       "Day Index        \n",
       "2021-01-01     31\n",
       "2021-01-02     41\n",
       "2021-01-03     58\n",
       "2021-01-04     56\n",
       "2021-01-05     44\n",
       "2021-01-06     46\n",
       "2021-01-07     62\n",
       "2021-01-08     39\n",
       "2021-01-09     45\n",
       "2021-01-10     43"
      ]
     },
     "execution_count": 33,
     "metadata": {},
     "output_type": "execute_result"
    }
   ],
   "source": [
    "import numpy as np\n",
    "import pandas as pd\n",
    "import matplotlib.pyplot as plt\n",
    "import seaborn as sns\n",
    "\n",
    "# Load the time series data into a Pandas dataframe\n",
    "df = pd.read_csv(\"google-analytics-20210101-20210802-days.csv\")\n",
    "\n",
    "# Add a time index to the dataframe\n",
    "df[\"Day Index\"] = pd.to_datetime(df[\"Day Index\"])\n",
    "df = df.set_index(\"Day Index\")\n",
    "df.head(10)"
   ]
  },
  {
   "cell_type": "code",
   "execution_count": 43,
   "id": "cc72379c",
   "metadata": {},
   "outputs": [
    {
     "ename": "ImportError",
     "evalue": "cannot import name '_maybe_get_pandas_wrapper_freq' from 'statsmodels.tsa.filters._utils' (C:\\Users\\mreve\\AppData\\Local\\Packages\\PythonSoftwareFoundation.Python.3.10_qbz5n2kfra8p0\\LocalCache\\local-packages\\Python310\\site-packages\\statsmodels\\tsa\\filters\\_utils.py)",
     "output_type": "error",
     "traceback": [
      "\u001b[1;31m---------------------------------------------------------------------------\u001b[0m",
      "\u001b[1;31mImportError\u001b[0m                               Traceback (most recent call last)",
      "Input \u001b[1;32mIn [43]\u001b[0m, in \u001b[0;36m<cell line: 3>\u001b[1;34m()\u001b[0m\n\u001b[0;32m      1\u001b[0m \u001b[38;5;28;01mimport\u001b[39;00m \u001b[38;5;21;01mpandas\u001b[39;00m \u001b[38;5;28;01mas\u001b[39;00m \u001b[38;5;21;01mpd\u001b[39;00m\n\u001b[0;32m      2\u001b[0m \u001b[38;5;28;01mimport\u001b[39;00m \u001b[38;5;21;01mnumpy\u001b[39;00m \u001b[38;5;28;01mas\u001b[39;00m \u001b[38;5;21;01mnp\u001b[39;00m\n\u001b[1;32m----> 3\u001b[0m \u001b[38;5;28;01mfrom\u001b[39;00m \u001b[38;5;21;01mstldecompose\u001b[39;00m \u001b[38;5;28;01mimport\u001b[39;00m STLDecompose\n\u001b[0;32m      5\u001b[0m \u001b[38;5;66;03m# Decompose the time series\u001b[39;00m\n\u001b[0;32m      6\u001b[0m decomposition \u001b[38;5;241m=\u001b[39m STLDecompose(df[\u001b[38;5;124m\"\u001b[39m\u001b[38;5;124mUsers\u001b[39m\u001b[38;5;124m\"\u001b[39m])\n",
      "File \u001b[1;32m~\\AppData\\Local\\Packages\\PythonSoftwareFoundation.Python.3.10_qbz5n2kfra8p0\\LocalCache\\local-packages\\Python310\\site-packages\\stldecompose\\__init__.py:1\u001b[0m, in \u001b[0;36m<module>\u001b[1;34m\u001b[0m\n\u001b[1;32m----> 1\u001b[0m \u001b[38;5;28;01mfrom\u001b[39;00m \u001b[38;5;21;01m.\u001b[39;00m\u001b[38;5;21;01mstl\u001b[39;00m \u001b[38;5;28;01mimport\u001b[39;00m decompose, forecast\n",
      "File \u001b[1;32m~\\AppData\\Local\\Packages\\PythonSoftwareFoundation.Python.3.10_qbz5n2kfra8p0\\LocalCache\\local-packages\\Python310\\site-packages\\stldecompose\\stl.py:5\u001b[0m, in \u001b[0;36m<module>\u001b[1;34m\u001b[0m\n\u001b[0;32m      3\u001b[0m \u001b[38;5;28;01mfrom\u001b[39;00m \u001b[38;5;21;01mpandas\u001b[39;00m\u001b[38;5;21;01m.\u001b[39;00m\u001b[38;5;21;01mcore\u001b[39;00m\u001b[38;5;21;01m.\u001b[39;00m\u001b[38;5;21;01mnanops\u001b[39;00m \u001b[38;5;28;01mimport\u001b[39;00m nanmean \u001b[38;5;28;01mas\u001b[39;00m pd_nanmean\n\u001b[0;32m      4\u001b[0m \u001b[38;5;28;01mfrom\u001b[39;00m \u001b[38;5;21;01mstatsmodels\u001b[39;00m\u001b[38;5;21;01m.\u001b[39;00m\u001b[38;5;21;01mtsa\u001b[39;00m\u001b[38;5;21;01m.\u001b[39;00m\u001b[38;5;21;01mseasonal\u001b[39;00m \u001b[38;5;28;01mimport\u001b[39;00m DecomposeResult\n\u001b[1;32m----> 5\u001b[0m \u001b[38;5;28;01mfrom\u001b[39;00m \u001b[38;5;21;01mstatsmodels\u001b[39;00m\u001b[38;5;21;01m.\u001b[39;00m\u001b[38;5;21;01mtsa\u001b[39;00m\u001b[38;5;21;01m.\u001b[39;00m\u001b[38;5;21;01mfilters\u001b[39;00m\u001b[38;5;21;01m.\u001b[39;00m\u001b[38;5;21;01m_utils\u001b[39;00m \u001b[38;5;28;01mimport\u001b[39;00m _maybe_get_pandas_wrapper_freq\n\u001b[0;32m      6\u001b[0m \u001b[38;5;28;01mimport\u001b[39;00m \u001b[38;5;21;01mstatsmodels\u001b[39;00m\u001b[38;5;21;01m.\u001b[39;00m\u001b[38;5;21;01mapi\u001b[39;00m \u001b[38;5;28;01mas\u001b[39;00m \u001b[38;5;21;01msm\u001b[39;00m\n\u001b[0;32m      9\u001b[0m \u001b[38;5;28;01mdef\u001b[39;00m \u001b[38;5;21mdecompose\u001b[39m(df, period\u001b[38;5;241m=\u001b[39m\u001b[38;5;241m365\u001b[39m, lo_frac\u001b[38;5;241m=\u001b[39m\u001b[38;5;241m0.6\u001b[39m, lo_delta\u001b[38;5;241m=\u001b[39m\u001b[38;5;241m0.01\u001b[39m):\n",
      "\u001b[1;31mImportError\u001b[0m: cannot import name '_maybe_get_pandas_wrapper_freq' from 'statsmodels.tsa.filters._utils' (C:\\Users\\mreve\\AppData\\Local\\Packages\\PythonSoftwareFoundation.Python.3.10_qbz5n2kfra8p0\\LocalCache\\local-packages\\Python310\\site-packages\\statsmodels\\tsa\\filters\\_utils.py)"
     ]
    }
   ],
   "source": [
    "import pandas as pd\n",
    "import numpy as np\n",
    "from stldecompose import STLDecompose\n",
    "\n",
    "# Decompose the time series\n",
    "decomposition = STLDecompose(df[\"Users\"])\n",
    "\n",
    "# Remove trend and seasonality from the time series\n",
    "residual = decomposition.resid\n",
    "\n",
    "# Calculate the interquartile range of the residual time series\n",
    "iqr = np.percentile(residual, 75) - np.percentile(residual, 25)\n",
    "\n",
    "# Define the lower and upper limits of the expected range of data values\n",
    "lower_limit = np.percentile(residual, 25) - 1.5 * iqr\n",
    "upper_limit = np.percentile(residual, 75) + 1.5 * iqr\n",
    "\n",
    "# Identify any data points that fall outside of these limits as outliers\n",
    "outliers = residual[residual < lower_limit] | residual[residual > upper_limit]\n",
    "\n",
    "# Remove the outliers from the time series\n",
    "df = df.loc[~df[\"value\"].isin(outliers)]\n",
    "\n",
    "# Print the updated time series data\n",
    "print(df)\n"
   ]
  },
  {
   "cell_type": "markdown",
   "id": "06d9b0aa",
   "metadata": {},
   "source": [
    "Nice! We are able to detect the outliers on 2021–04–03, 2021–06–20, and 2021–06–21."
   ]
  },
  {
   "cell_type": "markdown",
   "id": "af79d1cb",
   "metadata": {},
   "source": [
    "Now that we have detected these outliers, let’s remove them using the remover method. We will also replace the removed values with new linear interpolation values:"
   ]
  },
  {
   "cell_type": "code",
   "execution_count": null,
   "id": "fbab5efe",
   "metadata": {},
   "outputs": [],
   "source": [
    "ts_day_outliers_interpolated = outlier_detector.remover(interpolate=True)"
   ]
  },
  {
   "cell_type": "markdown",
   "id": "f7096993",
   "metadata": {},
   "source": [
    "Plot the original time series and the new time series whose outliers are removed."
   ]
  },
  {
   "cell_type": "code",
   "execution_count": null,
   "id": "cf507e89",
   "metadata": {},
   "outputs": [],
   "source": [
    "from matplotlib import pyplot as plt\n",
    "\n",
    "ax = ts_day.to_dataframe().plot(x=\"time\", y=\"value\")\n",
    "ts_day_outliers_interpolated.to_dataframe().plot(x=\"time\", y=\"y_0\", ax=ax)\n",
    "plt.legend(labels=[\"original ts\", \"ts with removed outliers\"])\n",
    "plt.show()"
   ]
  },
  {
   "cell_type": "markdown",
   "id": "6e843ec9",
   "metadata": {},
   "source": [
    "Cool! As we can see from the plot above, the time series with outliers being removed (the orange line) is different from the original time series (the blue line) on 2021–04–03, 2021–06–20, and 2021–06–21.\n",
    "\n",
    "There doesn’t seem to be an outstanding outlier in the new time series. Now, you can be confident using this new time series for other processes such as forecasting."
   ]
  },
  {
   "cell_type": "code",
   "execution_count": 44,
   "id": "a0a76fc6",
   "metadata": {},
   "outputs": [
    {
     "name": "stdout",
     "output_type": "stream",
     "text": [
      "Collecting kats\n",
      "  Using cached kats-0.2.0-py3-none-any.whl (612 kB)\n",
      "Requirement already satisfied: attrs>=21.2.0 in c:\\users\\mreve\\appdata\\local\\packages\\pythonsoftwarefoundation.python.3.10_qbz5n2kfra8p0\\localcache\\local-packages\\python310\\site-packages (from kats) (21.4.0)\n",
      "Requirement already satisfied: deprecated>=1.2.12 in c:\\users\\mreve\\appdata\\local\\packages\\pythonsoftwarefoundation.python.3.10_qbz5n2kfra8p0\\localcache\\local-packages\\python310\\site-packages (from kats) (1.2.13)\n",
      "Requirement already satisfied: matplotlib>=2.0.0 in c:\\users\\mreve\\appdata\\local\\packages\\pythonsoftwarefoundation.python.3.10_qbz5n2kfra8p0\\localcache\\local-packages\\python310\\site-packages (from kats) (3.6.3)\n",
      "Collecting numpy<1.22,>=1.21 (from kats)\n",
      "  Using cached numpy-1.21.6-cp310-cp310-win_amd64.whl (14.0 MB)\n",
      "Collecting pandas<=1.3.5,>=1.0.4 (from kats)\n",
      "  Using cached pandas-1.3.5-cp310-cp310-win_amd64.whl (10.2 MB)\n",
      "Requirement already satisfied: python-dateutil>=2.8.0 in c:\\users\\mreve\\appdata\\local\\packages\\pythonsoftwarefoundation.python.3.10_qbz5n2kfra8p0\\localcache\\local-packages\\python310\\site-packages (from kats) (2.8.2)\n",
      "Collecting pystan==2.19.1.1 (from kats)\n",
      "  Using cached pystan-2.19.1.1.tar.gz (16.2 MB)\n",
      "  Preparing metadata (setup.py): started\n",
      "  Preparing metadata (setup.py): finished with status 'done'\n",
      "Collecting fbprophet==0.7.1 (from kats)\n",
      "  Using cached fbprophet-0.7.1.tar.gz (64 kB)\n",
      "  Preparing metadata (setup.py): started\n",
      "  Preparing metadata (setup.py): finished with status 'done'\n",
      "Requirement already satisfied: scikit-learn>=0.24.2 in c:\\users\\mreve\\appdata\\local\\packages\\pythonsoftwarefoundation.python.3.10_qbz5n2kfra8p0\\localcache\\local-packages\\python310\\site-packages (from kats) (1.1.1)\n",
      "Collecting scipy<1.8.0 (from kats)\n",
      "  Using cached scipy-1.7.3-cp310-cp310-win_amd64.whl (34.3 MB)\n",
      "Requirement already satisfied: seaborn>=0.11.1 in c:\\users\\mreve\\appdata\\local\\packages\\pythonsoftwarefoundation.python.3.10_qbz5n2kfra8p0\\localcache\\local-packages\\python310\\site-packages (from kats) (0.12.2)\n",
      "Requirement already satisfied: setuptools-git>=1.2 in c:\\users\\mreve\\appdata\\local\\packages\\pythonsoftwarefoundation.python.3.10_qbz5n2kfra8p0\\localcache\\local-packages\\python310\\site-packages (from kats) (1.2)\n",
      "Collecting statsmodels==0.12.2 (from kats)\n",
      "  Using cached statsmodels-0.12.2.tar.gz (17.5 MB)\n",
      "  Installing build dependencies: started\n",
      "  Installing build dependencies: finished with status 'error'\n"
     ]
    },
    {
     "name": "stderr",
     "output_type": "stream",
     "text": [
      "IOPub data rate exceeded.\n",
      "The notebook server will temporarily stop sending output\n",
      "to the client in order to avoid crashing it.\n",
      "To change this limit, set the config variable\n",
      "`--NotebookApp.iopub_data_rate_limit`.\n",
      "\n",
      "Current values:\n",
      "NotebookApp.iopub_data_rate_limit=1000000.0 (bytes/sec)\n",
      "NotebookApp.rate_limit_window=3.0 (secs)\n",
      "\n"
     ]
    }
   ],
   "source": [
    "!pip install kats"
   ]
  },
  {
   "cell_type": "code",
   "execution_count": null,
   "id": "897ecbf2",
   "metadata": {},
   "outputs": [],
   "source": []
  }
 ],
 "metadata": {
  "kernelspec": {
   "display_name": "Python 3 (ipykernel)",
   "language": "python",
   "name": "python3"
  },
  "language_info": {
   "codemirror_mode": {
    "name": "ipython",
    "version": 3
   },
   "file_extension": ".py",
   "mimetype": "text/x-python",
   "name": "python",
   "nbconvert_exporter": "python",
   "pygments_lexer": "ipython3",
   "version": "3.10.11"
  }
 },
 "nbformat": 4,
 "nbformat_minor": 5
}
